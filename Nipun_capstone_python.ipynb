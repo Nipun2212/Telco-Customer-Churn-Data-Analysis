{
 "cells": [
  {
   "cell_type": "markdown",
   "metadata": {},
   "source": [
    "# GOLDBACH's CONJECTURE\n",
    "\n",
    "Every even number greater than 2 is a sum of two or more prime numbers"
   ]
  },
  {
   "cell_type": "code",
   "execution_count": 2,
   "metadata": {},
   "outputs": [],
   "source": [
    "import numpy as np\n",
    "import itertools as it\n"
   ]
  },
  {
   "cell_type": "code",
   "execution_count": 11,
   "metadata": {},
   "outputs": [],
   "source": [
    "def is_prime(a):\n",
    "    for div in range(2, a//2 + 1): # check number is prime or not\n",
    "        if a % div == 0:\n",
    "            return False\n",
    "    return True\n",
    "\n",
    "def goldbach(n):\n",
    "    if n%2==0:\n",
    "        prime_list = [] #result is stored in this list\n",
    "        n_l=[] #\n",
    "        \n",
    "    for p1 in range(2, n):\n",
    "        if is_prime(p1) and is_prime(n-p1): # check for prime numbers for p1 and n-p1 because p1+p2=n\n",
    "            n_l.append(p1)#append new item to list\n",
    "            p2 = n-p1 #if prime then, assign to p2\n",
    "            if p2 not in n_l or p1==p2 and p1<=p2:#check condition p1 and p2\n",
    "                prime_list.append((p1,p2))#append the items to the resultant list\n",
    "    print(prime_list)\n",
    "            \n",
    "            "
   ]
  },
  {
   "cell_type": "code",
   "execution_count": 12,
   "metadata": {},
   "outputs": [
    {
     "name": "stdout",
     "output_type": "stream",
     "text": [
      "[(5, 7), (11, 1)]\n"
     ]
    }
   ],
   "source": [
    "goldbach(12)"
   ]
  },
  {
   "cell_type": "code",
   "execution_count": 19,
   "metadata": {},
   "outputs": [
    {
     "name": "stdout",
     "output_type": "stream",
     "text": [
      "[(3, 23), (7, 19), (13, 13)]\n"
     ]
    }
   ],
   "source": [
    "goldbach(26)"
   ]
  },
  {
   "cell_type": "markdown",
   "metadata": {},
   "source": [
    "# Odd one\n",
    "    "
   ]
  },
  {
   "cell_type": "code",
   "execution_count": 8,
   "metadata": {},
   "outputs": [],
   "source": [
    "def odd_one(L):\n",
    "    int_cnt= 0\n",
    "    float_cnt= 0\n",
    "    str_cnt= 0\n",
    "    bool_cnt=0\n",
    "    dic={} #creating dictonary\n",
    "    for i in L:\n",
    "        if type(i) not in dic:\n",
    "            dic[type(i)]=1\n",
    "        else:\n",
    "            if type(i)== int: # checking type of integer\n",
    "                int_cnt+=1\n",
    "                dic[type(i)]=int_cnt\n",
    "            elif type(i)== float:# checking type of float\n",
    "                float_cnt+=1\n",
    "                dic[type(i)]=float_cnt\n",
    "            elif type(i)== str:# checking type of strinng\n",
    "                str_cnt+=1  \n",
    "                dic[type(i)]=str_cnt\n",
    "            else:\n",
    "                bool_cnt+=1\n",
    "                dic[type(i)]=bool_cnt\n",
    "\n",
    "    key_list = list(dic.keys())\n",
    "    return key_list[1]\n"
   ]
  },
  {
   "cell_type": "code",
   "execution_count": 10,
   "metadata": {},
   "outputs": [
    {
     "name": "stdout",
     "output_type": "stream",
     "text": [
      "<class 'float'>\n"
     ]
    }
   ],
   "source": [
    "L=[1,2,3.4,5,6]\n",
    "result=odd_one(L)\n",
    "print(result)"
   ]
  },
  {
   "cell_type": "markdown",
   "metadata": {},
   "source": [
    "# Find Min Difference"
   ]
  },
  {
   "cell_type": "code",
   "execution_count": 3,
   "metadata": {},
   "outputs": [],
   "source": [
    "def Find_Min_Difference(L,P): #accepts list L and subset of size P and P<L\n",
    "  L.remove(L[P-1])\n",
    "  print(L)\n",
    "  if len(L)>P: # the number of elements of P must be less than length of L\n",
    "    l1=L[:P+1] #list of first P+1 elements \n",
    "    l2=L[:-P-1:-1] #list of first P elements\n",
    "    l2.sort()\n",
    "    result=min((max(l1)-min(l1)),(max(l2)-min(l2))) #diff of max and min value of the selected must be minimum \n",
    "                                                    #compared to other possible differences\n",
    "    print(result)"
   ]
  },
  {
   "cell_type": "code",
   "execution_count": 2,
   "metadata": {},
   "outputs": [
    {
     "name": "stdout",
     "output_type": "stream",
     "text": [
      "[3, 4, 1, 9, 7, 9, 12, 13]\n",
      "6\n"
     ]
    }
   ],
   "source": [
    "L=[3,4,1,9,56,7,9,12,13]\n",
    "P=5\n",
    "Find_Mean_Difference(L,P)"
   ]
  },
  {
   "cell_type": "code",
   "execution_count": null,
   "metadata": {},
   "outputs": [],
   "source": []
  },
  {
   "cell_type": "code",
   "execution_count": null,
   "metadata": {},
   "outputs": [],
   "source": []
  },
  {
   "cell_type": "code",
   "execution_count": null,
   "metadata": {},
   "outputs": [],
   "source": []
  }
 ],
 "metadata": {
  "kernelspec": {
   "display_name": "Python 3",
   "language": "python",
   "name": "python3"
  },
  "language_info": {
   "codemirror_mode": {
    "name": "ipython",
    "version": 3
   },
   "file_extension": ".py",
   "mimetype": "text/x-python",
   "name": "python",
   "nbconvert_exporter": "python",
   "pygments_lexer": "ipython3",
   "version": "3.8.8"
  }
 },
 "nbformat": 4,
 "nbformat_minor": 4
}
